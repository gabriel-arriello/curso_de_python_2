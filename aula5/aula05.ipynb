{
 "cells": [
  {
   "cell_type": "code",
   "execution_count": null,
   "metadata": {},
   "outputs": [],
   "source": [
    "#URLLIB\n",
    "#REQUESTS\n",
    "#TERMINATOR\n",
    "\n",
    "#Aprendemos métodos get e post\n",
    "#Tarefa de casa: put, delete, patch\n",
    "#Também GZIP do get\n",
    "#Payloads em classes"
   ]
  },
  {
   "cell_type": "code",
   "execution_count": 13,
   "metadata": {},
   "outputs": [
    {
     "data": {
      "text/plain": [
       "{'args': {},\n",
       " 'data': '{\"regiao\": 1, \"marca\": \"Renault\", \"preco\": \"50000-600000\"}',\n",
       " 'files': {},\n",
       " 'form': {},\n",
       " 'headers': {'Accept': '*/*',\n",
       "  'Accept-Encoding': 'gzip, deflate',\n",
       "  'Content-Length': '58',\n",
       "  'Content-Type': 'application/json',\n",
       "  'Host': 'www.httpbin.org',\n",
       "  'Token': 'Bearer Batata',\n",
       "  'User-Agent': 'python-requests/2.18.4',\n",
       "  'X-Amzn-Trace-Id': 'Root=1-6403674d-20eb4a0070188ef143c8fdd4'},\n",
       " 'json': {'marca': 'Renault', 'preco': '50000-600000', 'regiao': 1},\n",
       " 'origin': '177.40.1.40',\n",
       " 'url': 'https://www.httpbin.org/post'}"
      ]
     },
     "execution_count": 13,
     "metadata": {},
     "output_type": "execute_result"
    }
   ],
   "source": [
    "import requests\n",
    "\n",
    "payload = {\n",
    "    \"regiao\": 1,\n",
    "    \"marca\": \"Renault\",\n",
    "    \"preco\": \"50000-600000\"\n",
    "}\n",
    "\n",
    "headers = {\n",
    "    \"token\": \"Bearer Batata\"\n",
    "}\n",
    "\n",
    "\n",
    "response = requests.post(\"https://www.httpbin.org/post\", json=payload, headers=headers)\n",
    "\n",
    "URL = response.url\n",
    "STATUS_CODE  = response.status_code\n",
    "CABECALHO = response.headers\n",
    "JSON = response.json()\n",
    "\n",
    "URL\n",
    "STATUS_CODE\n",
    "CABECALHO\n",
    "JSON"
   ]
  }
 ],
 "metadata": {
  "kernelspec": {
   "display_name": "Python 3",
   "language": "python",
   "name": "python3"
  },
  "language_info": {
   "codemirror_mode": {
    "name": "ipython",
    "version": 3
   },
   "file_extension": ".py",
   "mimetype": "text/x-python",
   "name": "python",
   "nbconvert_exporter": "python",
   "pygments_lexer": "ipython3",
   "version": "3.8.0"
  },
  "orig_nbformat": 4
 },
 "nbformat": 4,
 "nbformat_minor": 2
}
