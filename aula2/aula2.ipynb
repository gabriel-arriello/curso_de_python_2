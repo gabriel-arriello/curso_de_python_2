{
 "cells": [
  {
   "cell_type": "code",
   "execution_count": null,
   "metadata": {},
   "outputs": [],
   "source": [
    "# HERANÇA\n",
    "# Criação de um objeto ou classe com base em outro objeto ou classe\n",
    "# prototype-based\n",
    "# class-based\n",
    "\n",
    "# Construtor padrão necessário\n",
    "# Dataclass para TO (transfer object)\n",
    "\n",
    "# SISTEMA:\n",
    "# FRONT END -> BACK END\n",
    "# MVC BACK END: VIEW, CONTROLLER e MODEL\n",
    "\n",
    "\n",
    "# MÉTODOS MÁGICOS ou DUNDER METHODS (__exemplo__)\n",
    "# Substituir ou modificar o funcionamento de uma classe\n",
    "# __init__ / __del__ / __str__\n",
    "\n",
    "# Exercício objetivo criar Classe para manipulação de arquivo\n",
    "# Métodos para insert, select, delete e compactar\n",
    "# iblioteca Pickle seriealização - pegar objetos e guardar num arquivo\n",
    "# Métodos mágicos para o mesmo\n",
    "\n",
    "# 1) Deve ter um método para inserção de dados no arquivo;\n",
    "# 2) Deve ter um método para consulta de dados no arquivo;\n",
    "# 3) Deve ter um método para excluir dados no arquivo;\n",
    "# 4) Cada entidade deve te seu próprio arquivo;\n",
    "    # Funcionário\n",
    "    # Cliente\n",
    "    # Produto\n",
    "# 5) Arquivos devem ser armazenados compactados (bibliotecas de algoritmo de compactação)\n",
    "\n",
    "# Bônus: novas entidades podem ser definidas pelo usuário (modelos)\n",
    "# Bônus2: a consulta deve utilizar algoritmos de busca (heapsort)\n",
    "\n",
    "# Dicas:\n",
    "# Dividir classes em arquivos\n",
    "# Classe em brancos"
   ]
  }
 ],
 "metadata": {
  "kernelspec": {
   "display_name": "Python 3",
   "language": "python",
   "name": "python3"
  },
  "language_info": {
   "name": "python",
   "version": "3.8.0"
  },
  "orig_nbformat": 4,
  "vscode": {
   "interpreter": {
    "hash": "df0893f56f349688326838aaeea0de204df53a132722cbd565e54b24a8fec5f6"
   }
  }
 },
 "nbformat": 4,
 "nbformat_minor": 2
}
